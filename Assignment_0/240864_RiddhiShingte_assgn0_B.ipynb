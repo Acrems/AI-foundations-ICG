{
  "nbformat": 4,
  "nbformat_minor": 0,
  "metadata": {
    "colab": {
      "provenance": []
    },
    "kernelspec": {
      "name": "python3",
      "display_name": "Python 3"
    },
    "language_info": {
      "name": "python"
    }
  },
  "cells": [
    {
      "cell_type": "markdown",
      "source": [
        "# Simple application of essential python libraries\n",
        "\n",
        "Get an intuitive and applicative understanding of numpy, pandas and matplotlib by using these libraries to play with data often found in real life applications.\n",
        "\n",
        "This book is for understanding the libraries, so make sure to experiment as much as you can, you dont have to stick to exactly what is asked.\n",
        "\n",
        "Guidelines:\n",
        "\n",
        "*   Fill the codeblocks according to the comments given\n",
        "*   Hints are given wherever required\n",
        "*   Your first debugging step should be to print errors to identify the issue.Understand why it went wrong by analyzing the outputs and error messages. Adjust your code to fix the problem systematically.\n",
        "*   If stuck, you're welcome to utilize any online resources, and feel free to ask doubts in the group!\n"
      ],
      "metadata": {
        "id": "CHn-ZDDlcyEq"
      }
    },
    {
      "cell_type": "code",
      "execution_count": 18,
      "metadata": {
        "id": "7WmBvBenXwt5"
      },
      "outputs": [],
      "source": [
        "#import necessary dependencies\n",
        "import urllib.request\n",
        "# ...other dependencies\n",
        "import pandas as pd\n",
        "import numpy as np\n",
        "import matplotlib.pyplot as plt\n",
        "\n"
      ]
    },
    {
      "cell_type": "markdown",
      "source": [
        "##Data to work on"
      ],
      "metadata": {
        "id": "T34ou7xFX_x5"
      }
    },
    {
      "cell_type": "code",
      "source": [
        "# Step 1: Load the dataset, dont focus on this part\n",
        "url = \"https://people.sc.fsu.edu/~jburkardt/data/csv/airtravel.csv\"\n",
        "filename = \"airtravel.csv\"\n",
        "urllib.request.urlretrieve(url, filename)"
      ],
      "metadata": {
        "id": "n9RazLOrX8w-",
        "colab": {
          "base_uri": "https://localhost:8080/"
        },
        "outputId": "3ba9b757-ebef-4e90-8164-3f34f0874d14"
      },
      "execution_count": 7,
      "outputs": [
        {
          "output_type": "execute_result",
          "data": {
            "text/plain": [
              "('airtravel.csv', <http.client.HTTPMessage at 0x7c9bc046e800>)"
            ]
          },
          "metadata": {},
          "execution_count": 7
        }
      ]
    },
    {
      "cell_type": "markdown",
      "source": [
        "Where did this .csv file get saved? load it using pandas!"
      ],
      "metadata": {
        "id": "N2Uccfa-YLXI"
      }
    },
    {
      "cell_type": "code",
      "source": [
        "#load the .csv file using pandas\n",
        "df = pd.read_csv('airtravel.csv')\n",
        "\n",
        "print(df.to_string())\n",
        "#create an ndarray from this pandas df, but ignore the \"Month\" column (slicing, maybe?)\n",
        "df_without_month = df.loc[:, df.columns != 'Month']\n",
        "ndarray = df_without_month.to_numpy()"
      ],
      "metadata": {
        "id": "2YehcY4VYU8u",
        "colab": {
          "base_uri": "https://localhost:8080/"
        },
        "outputId": "2d57ff47-4c9a-49b6-804f-2c7f8cef8420"
      },
      "execution_count": 16,
      "outputs": [
        {
          "output_type": "stream",
          "name": "stdout",
          "text": [
            "   Month   \"1958\"   \"1959\"   \"1960\"\n",
            "0    JAN      340      360      417\n",
            "1    FEB      318      342      391\n",
            "2    MAR      362      406      419\n",
            "3    APR      348      396      461\n",
            "4    MAY      363      420      472\n",
            "5    JUN      435      472      535\n",
            "6    JUL      491      548      622\n",
            "7    AUG      505      559      606\n",
            "8    SEP      404      463      508\n",
            "9    OCT      359      407      461\n",
            "10   NOV      310      362      390\n",
            "11   DEC      337      405      432\n"
          ]
        }
      ]
    },
    {
      "cell_type": "code",
      "source": [
        "#Calculate the mean value across all three years for each month (mean_original) using an np function and return an ndarray consisting mean passengers for each month\n",
        "mean_original =np.mean(ndarray,axis=1)\n",
        "print(np.mean(ndarray,axis=1))\n"
      ],
      "metadata": {
        "id": "ZGTPlPRzYywE",
        "colab": {
          "base_uri": "https://localhost:8080/"
        },
        "outputId": "4ef8fb01-b817-4b2b-dc1d-85909c978d22"
      },
      "execution_count": 56,
      "outputs": [
        {
          "output_type": "stream",
          "name": "stdout",
          "text": [
            "[372.33333333 350.33333333 395.66666667 401.66666667 418.33333333\n",
            " 480.66666667 553.66666667 556.66666667 458.33333333 409.\n",
            " 354.         391.33333333]\n"
          ]
        }
      ]
    },
    {
      "cell_type": "code",
      "source": [
        "dff = pd.read_csv(\"airtravel.csv\", usecols=['Month'])\n",
        "month=dff['Month'].tolist()\n",
        "print(month)"
      ],
      "metadata": {
        "colab": {
          "base_uri": "https://localhost:8080/"
        },
        "id": "ldHzVnFw5Idd",
        "outputId": "22d499be-7f54-4d9e-d75d-fe597a649d17"
      },
      "execution_count": 57,
      "outputs": [
        {
          "output_type": "stream",
          "name": "stdout",
          "text": [
            "['JAN', 'FEB', 'MAR', 'APR', 'MAY', 'JUN', 'JUL', 'AUG', 'SEP', 'OCT', 'NOV', 'DEC']\n"
          ]
        }
      ]
    },
    {
      "cell_type": "code",
      "source": [
        "#use matplotlib to plot a bargraph to visualize mean number of passengers across different months\n",
        "dff = pd.read_csv(\"airtravel.csv\", usecols=['Month'])\n",
        "month=dff['Month'].tolist()\n",
        "print(month)\n",
        "x=np.mean(ndarray,axis=1)\n",
        "plt.bar(x, month)\n",
        "plt.show()"
      ],
      "metadata": {
        "id": "CKlm7OvMZSYS",
        "colab": {
          "base_uri": "https://localhost:8080/",
          "height": 448
        },
        "outputId": "759b4b53-1d8b-40ce-deec-6299e2f887ee"
      },
      "execution_count": 61,
      "outputs": [
        {
          "output_type": "stream",
          "name": "stdout",
          "text": [
            "['JAN', 'FEB', 'MAR', 'APR', 'MAY', 'JUN', 'JUL', 'AUG', 'SEP', 'OCT', 'NOV', 'DEC']\n"
          ]
        },
        {
          "output_type": "display_data",
          "data": {
            "text/plain": [
              "<Figure size 640x480 with 1 Axes>"
            ],
            "image/png": "[encoded data removed]"
          },
          "metadata": {}
        }
      ]
    },
    {
      "cell_type": "markdown",
      "source": [
        "##Transforming data"
      ],
      "metadata": {
        "id": "Htv0CimJcktY"
      }
    },
    {
      "cell_type": "markdown",
      "source": [
        "Let's visualize the data"
      ],
      "metadata": {
        "id": "qjGDvQdhacpW"
      }
    },
    {
      "cell_type": "markdown",
      "source": [
        "Simulate a spike across the data"
      ],
      "metadata": {
        "id": "S7LCQnGJZSnc"
      }
    },
    {
      "cell_type": "code",
      "source": [
        "#Simply create a list with the same shape as previous arrays, and fill it with data simulating a spike across months peaking at 100, width, number of peaks, etc. are upto you!\n",
        "data = [6, 5, 100, 10, 11, 100, 12, 8, 100, 9, 7, 50]\n",
        "\n",
        "\n",
        "\n",
        "#convert the list to a pandas series spike_series, and the mean_original to a pandas series also\n",
        "\n",
        "spike_series =pd.Series(data)\n",
        "original_series =pd.Series(mean_original)\n",
        "\n",
        "#define a function called transform_orig() that adds spike_series element-wise to original_series (use .add())\n",
        "def transform_orig():\n",
        "  return spike_series.add(original_series)\n",
        "\n",
        "#call the function and obtain a spiked_data series, and convert it back to a list\n",
        "spiked_data=transform_orig()\n",
        "newspikedata=spiked_data.tolist()\n",
        "print(newspikedata)\n",
        "\n"
      ],
      "metadata": {
        "id": "uSRm_RUMY8y3",
        "colab": {
          "base_uri": "https://localhost:8080/"
        },
        "outputId": "203fbebd-eed0-40cc-886d-0f4eef36b171"
      },
      "execution_count": 59,
      "outputs": [
        {
          "output_type": "stream",
          "name": "stdout",
          "text": [
            "[378.3333333333333, 355.3333333333333, 495.6666666666667, 411.6666666666667, 429.3333333333333, 580.6666666666667, 565.6666666666666, 564.6666666666666, 558.3333333333333, 418.0, 361.0, 441.3333333333333]\n"
          ]
        }
      ]
    },
    {
      "cell_type": "markdown",
      "source": [
        "Plot the new spiked_data across months to visualize the spike's impact on number of passengers"
      ],
      "metadata": {
        "id": "YzbsA-6caMbe"
      }
    },
    {
      "cell_type": "code",
      "source": [
        "#similar to how you plotted it before! (bonus: make it colorful)\n",
        "print(month)\n",
        "plt.bar(newspikedata, month,color=\"red\")\n",
        "plt.show()\n",
        "\n"
      ],
      "metadata": {
        "id": "fSBO8cWJYVRr",
        "colab": {
          "base_uri": "https://localhost:8080/",
          "height": 448
        },
        "outputId": "c314e2a6-6eca-4c7e-fa95-81f00b781da5"
      },
      "execution_count": 62,
      "outputs": [
        {
          "output_type": "stream",
          "name": "stdout",
          "text": [
            "['JAN', 'FEB', 'MAR', 'APR', 'MAY', 'JUN', 'JUL', 'AUG', 'SEP', 'OCT', 'NOV', 'DEC']\n"
          ]
        },
        {
          "output_type": "display_data",
          "data": {
            "text/plain": [
              "<Figure size 640x480 with 1 Axes>"
            ],
            "image/png": "[encoded data removed]"
          },
          "metadata": {}
        }
      ]
    },
    {
      "cell_type": "markdown",
      "source": [
        "## Compare!"
      ],
      "metadata": {
        "id": "jD2OqtKTcr_E"
      }
    },
    {
      "cell_type": "markdown",
      "source": [
        "Now, all thats left is to compare the graphs"
      ],
      "metadata": {
        "id": "wH3SouROapF8"
      }
    },
    {
      "cell_type": "code",
      "source": [
        "#Create a subplot with first and second plot, along with a graph showing how the data has changed before and after spike (could be a bar graph, upto you, be creative)\n",
        "\n",
        "plt.bar(x, month,width=10)\n",
        "plt.bar(newspikedata, month,color=\"red\",width=10)\n",
        "\n",
        "\n",
        "plt.show()\n",
        "\n"
      ],
      "metadata": {
        "id": "kuImcGwAatq2",
        "colab": {
          "base_uri": "https://localhost:8080/",
          "height": 430
        },
        "outputId": "eaa06433-5ca1-46a0-e1cb-890e0c0273d1"
      },
      "execution_count": 73,
      "outputs": [
        {
          "output_type": "display_data",
          "data": {
            "text/plain": [
              "<Figure size 640x480 with 1 Axes>"
            ],
            "image/png": "[encoded data removed]"
          },
          "metadata": {}
        }
      ]
    }
  ]
}