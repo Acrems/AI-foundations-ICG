{
 "cells": [
  {
   "cell_type": "markdown",
   "metadata": {
    "id": "kIAcUXNYVeGR"
   },
   "source": [
    "Instructions for the assignment\n",
    "\n",
    "\n",
    "*   Fill the codeblocks according to the comments given\n",
    "*   Hints are given wherever required\n",
    "*   Please note that copying will not be tolerated, and appropriate action will be taken if we suspect any misconduct.\n",
    "*   You're welcome to utilize any online resources in case you feel stuck anywhere\n",
    "\n",
    "\n",
    "\n",
    "\n",
    "\n",
    "\n",
    "\n"
   ]
  },
  {
   "cell_type": "markdown",
   "metadata": {
    "id": "UhXvUdK6Stt_"
   },
   "source": [
    "# Section A *(2 Marks each)*"
   ]
  },
  {
   "cell_type": "markdown",
   "metadata": {
    "id": "oc77CrhjAGlR"
   },
   "source": [
    "## NumPy (Numerical Python)\n",
    "\n",
    "### Multidimensional array object\n",
    "- Array is a grid of homogeneous elements which can be indexed in various ways\n",
    "- Different from Python list which can store different data types\n",
    "- NumPy stores multidimensional arrays as an instance of **ndarray**\n",
    "\n"
   ]
  },
  {
   "cell_type": "code",
   "execution_count": null,
   "metadata": {
    "id": "WGtRigfyBpgb"
   },
   "outputs": [],
   "source": [
    "import numpy as np"
   ]
  },
  {
   "cell_type": "code",
   "execution_count": null,
   "metadata": {
    "colab": {
     "base_uri": "https://localhost:8080/"
    },
    "id": "UR9ftRnU8_lu",
    "outputId": "e5139257-d522-46ca-b026-09516e7146d9"
   },
   "outputs": [
    {
     "name": "stdout",
     "output_type": "stream",
     "text": [
      "[1 2 3 4 5]\n",
      "[[[1 2 3]\n",
      "  [4 5 6]]\n",
      "\n",
      " [[1 2 3]\n",
      "  [4 5 6]]]\n"
     ]
    }
   ],
   "source": [
    "# Python list to initialize a one dimensional NumPy array of numbers 1 to 5 and then print it\n",
    "list1=[1,2,3,4,5]\n",
    "np1=np.array(list1)\n",
    "print(np1)\n",
    "\n",
    "# Python list to initialize a two dimensional NumPy array of shape [3,3] and then print it\n",
    "arr1=[[[1, 2, 3], [4, 5, 6]], [[1, 2, 3], [4, 5, 6]]]\n",
    "arr = np.array(arr1)\n",
    "\n",
    "print(arr)"
   ]
  },
  {
   "cell_type": "code",
   "execution_count": null,
   "metadata": {
    "id": "WZf-M7KnBkhu"
   },
   "outputs": [],
   "source": [
    "# Write a NumPy function to create an array with random values of shape [3,4]\n",
    "np3=np.random.rand(3,4)\n",
    "\n",
    "# Write a NumPy function to create an array with all elements initialized as zero of shape [3,4]\n",
    "np4=np.zeros((3,4))\n",
    "\n",
    "# Write a NumPy function to create an array with all elements initialized as ones of shape [3,4]\n",
    "np5=np.full((3,4),1)\n"
   ]
  },
  {
   "cell_type": "code",
   "execution_count": null,
   "metadata": {
    "colab": {
     "base_uri": "https://localhost:8080/"
    },
    "id": "Uagv5WtWBknb",
    "outputId": "fe76eb53-0a08-49d4-d5f3-b03288ee9ead"
   },
   "outputs": [
    {
     "name": "stdout",
     "output_type": "stream",
     "text": [
      "[0 2 4 6 8]\n"
     ]
    }
   ],
   "source": [
    "# Write a NumPy function to create an array containing a range of evenly spaced intervals\n",
    "# Hint : Use np.arange or np.linspace\n",
    "np6=np.arange(0,10,2)\n",
    "print(np6)"
   ]
  },
  {
   "cell_type": "markdown",
   "metadata": {
    "id": "dFeKiGA5CNXx"
   },
   "source": [
    "### Basic array operations\n",
    "- algebraic operations\n",
    "- logical operations"
   ]
  },
  {
   "cell_type": "code",
   "execution_count": null,
   "metadata": {
    "id": "mZbgCNnRDVbV"
   },
   "outputs": [],
   "source": [
    "a = np.array([[-4,6,8], [9, 3, 1], [1, 8, 5]])\n",
    "b = np.array([[11,16,18], [90, 37, 81], [61, 48, 75]])"
   ]
  },
  {
   "cell_type": "code",
   "execution_count": null,
   "metadata": {
    "id": "QajfAkNHCMqe"
   },
   "outputs": [],
   "source": [
    "# Write a NumPy function to add, subtract, multiply and divide arrays 'a' and 'b'\n",
    "add=np.add(a,b)\n",
    "sub=np.subtract(a,b)\n",
    "mult=np.multiply(a,b)\n",
    "div=np.divide(a,b)"
   ]
  },
  {
   "cell_type": "code",
   "execution_count": null,
   "metadata": {
    "id": "hfBR7r80C_qh"
   },
   "outputs": [],
   "source": [
    "# Write a NumPy function to get the sum of the array 'a' along axis=0\n",
    "suma=np.sum(a,axis=0)\n",
    "\n",
    "\n",
    "# Write a NumPy function to get the sum of the array 'a' along axis=1\n",
    "sumar=np.sum(a,axis=1)\n"
   ]
  },
  {
   "cell_type": "code",
   "execution_count": null,
   "metadata": {
    "id": "rBTxfTuFDSiA"
   },
   "outputs": [],
   "source": [
    "# Write a NumPy function to reverse the array 'a'\n",
    "fa=np.flip(a)\n",
    "\n",
    "# Write a NumPy function to reverse the array 'a' along axis=0\n",
    "fa0=np.flip(a,axis=0)\n",
    "\n",
    "# Write a NumPy function to reverse the array 'a' along axis=1\n",
    "fa1=np.flip(a,axis=1)\n"
   ]
  },
  {
   "cell_type": "markdown",
   "metadata": {
    "id": "WnCvXc3jCdWH"
   },
   "source": [
    "### Sorting and concatenation\n",
    "- sort arrays\n",
    "- join multiple arrays\n"
   ]
  },
  {
   "cell_type": "code",
   "execution_count": null,
   "metadata": {
    "id": "Qsg-EPq7EbPx"
   },
   "outputs": [],
   "source": [
    "a = np.array([[-4,6,8], [9, 3, 1], [1, 8, 5]])\n",
    "b = np.array([[11,16,18], [90, 37, 81], [61, 48, 75]])"
   ]
  },
  {
   "cell_type": "code",
   "execution_count": null,
   "metadata": {
    "id": "_7VfP1anCc0O"
   },
   "outputs": [],
   "source": [
    "# Write a NumPy function to sort the array 'a'\n",
    "fas=np.sort(a)\n",
    "\n",
    "# Write a NumPy function to sort the array 'a' along axis=0\n",
    "fas0=np.sort(a,axis=0)\n",
    "\n",
    "# Write a NumPy function to sort the array 'a' along axis=1\n",
    "fas1=np.sort(a,axis=1)\n",
    "\n",
    "# Write a NumPy function to sort the array 'a' in descending order along axis=0\n",
    "fasrev=np.sort(a,axis=0)[::-1]\n"
   ]
  },
  {
   "cell_type": "code",
   "execution_count": null,
   "metadata": {
    "id": "6BqbtdLYEWng"
   },
   "outputs": [],
   "source": [
    "# Write a NumPy function to argsort the array along axis=0\n",
    "arga0=np.argsort(a,axis=0)\n",
    "\n",
    "# Write a NumPy function to argsort the array along axis=1\n",
    "arga1=np.argsort(a,axis=1)"
   ]
  },
  {
   "cell_type": "code",
   "execution_count": null,
   "metadata": {
    "id": "cixOoXZhEY8-"
   },
   "outputs": [],
   "source": [
    "# Write a NumPy function to concatenate the arrays 'a' and 'b'\n",
    "con=np.concatenate(a,b)\n",
    "\n",
    "# Write a NumPy function to concatenate the arrays 'a' and 'b' along axis = 0\n",
    "con1=np.concatenate((a,b),axis=0)\n",
    "\n",
    "# Note: You can do the same function using stacking, discover and try that :)\n"
   ]
  },
  {
   "cell_type": "markdown",
   "metadata": {
    "id": "aY0j33z2EjNx"
   },
   "source": [
    "### Reshaping arrays\n",
    "- the number of dimensions of the array\n",
    "-  shape of n-dimensional array as a tuple with n elements s.t. $i^{th}$ element is the length of the $i^{th}$ dimension of the array\n",
    "- total number of elements of the array\n",
    "- reshapes the array\n",
    "- flattens multidimensional array into a 1D array\n",
    "- adds new dimensions to the array"
   ]
  },
  {
   "cell_type": "code",
   "execution_count": null,
   "metadata": {
    "id": "sStUkoh1FG4N"
   },
   "outputs": [],
   "source": [
    "a = np.array([[4,6,8], [9, 3, 1], [1, 8, 5]])"
   ]
  },
  {
   "cell_type": "code",
   "execution_count": null,
   "metadata": {
    "id": "vb35oi57Ev1f"
   },
   "outputs": [],
   "source": [
    "# Write a NumPy function to get the Number of dimensions\n",
    "dima=a.ndim\n",
    "\n",
    "# Write a NumPy function to get the Shape of the array\n",
    "shapea=a.shape\n",
    "\n",
    "# Write a NumPy function to get the Size of the array\n",
    "sizea=a.size\n"
   ]
  },
  {
   "cell_type": "code",
   "execution_count": null,
   "metadata": {
    "id": "MznU0NWKE54c"
   },
   "outputs": [],
   "source": [
    "# Write a NumPy function to Reshape the array 'a' to the dimension (1,9)\n",
    "reshaped = a.reshape((1,9))"
   ]
  },
  {
   "cell_type": "code",
   "execution_count": null,
   "metadata": {
    "id": "p1dlxcNYE8tv"
   },
   "outputs": [],
   "source": [
    "# Write a NumPy function to add a new axis to the array 'a'\n",
    "arr_3D = a[np.newaxis, np.newaxis, np.newaxis]\n",
    "arreshape= np.expand_dims(a, axis=1).shape\n",
    "# Note : Show atleast two different ways of doing this\n"
   ]
  },
  {
   "cell_type": "markdown",
   "metadata": {
    "id": "Ng4xWkwpFtao"
   },
   "source": [
    "### Indexing and slicing\n",
    "- NumPy allows indexing array using tuple of nonnegative integers, booleans, array or integers"
   ]
  },
  {
   "cell_type": "code",
   "execution_count": null,
   "metadata": {
    "id": "swrtOhPGGB7r"
   },
   "outputs": [],
   "source": [
    "a = np.array([[4,6,0], [0, 3, 1], [1, 8, 5]])"
   ]
  },
  {
   "cell_type": "code",
   "execution_count": null,
   "metadata": {
    "id": "w3QaVYRyFs77"
   },
   "outputs": [],
   "source": [
    "# Write a NumPy function to index and slice NumPy arrays similar to Python lists\n",
    "# Show all three - indexing by a integer, indexing by a tuple, using range\n",
    "index1=a([0][0][1])\n",
    "indextup = (1, 2)\n",
    "slice2=a[indextup]\n",
    "\n",
    "slice3=a([0:1,0:1,1:3])\n"
   ]
  },
  {
   "cell_type": "code",
   "execution_count": null,
   "metadata": {
    "id": "Xn2_z5h-Fmrd"
   },
   "outputs": [],
   "source": [
    "# Write a NumPy function to select values satisfying a specific condition like Values greater than 4\n",
    "gr=(a[a>4])\n",
    "\n",
    "# Write a NumPy function to select values satisfying mulitple conditions like Values greater than 4 and divisible by 2\n",
    "out=(a([a>4]&(a%2==0)))"
   ]
  },
  {
   "cell_type": "markdown",
   "metadata": {
    "id": "GWU0EfaAG2ll"
   },
   "source": [
    "### Copying arrays\n",
    "- new array object with a copy of the data\n",
    "- Changes made in the copy array is not reflected in the original array"
   ]
  },
  {
   "cell_type": "code",
   "execution_count": null,
   "metadata": {
    "id": "ijdgy02lHMJW"
   },
   "outputs": [],
   "source": [
    "a = np.array([[4,6,0], [0, 3, 1], [1, 8, 5]])"
   ]
  },
  {
   "cell_type": "code",
   "execution_count": null,
   "metadata": {
    "colab": {
     "base_uri": "https://localhost:8080/"
    },
    "id": "FmgUdh66GuQH",
    "outputId": "bc2c3711-4b94-4eb5-d8aa-f85595ba5120"
   },
   "outputs": [
    {
     "name": "stdout",
     "output_type": "stream",
     "text": [
      "[[5 7 1]\n",
      " [1 4 2]\n",
      " [2 9 6]]\n"
     ]
    }
   ],
   "source": [
    "# Write a NumPy function to copy the array 'a' and finally print an array where all elements are increased by 1\n",
    "copy=np.copy(a)\n",
    "copy=copy+1\n",
    "print(copy)"
   ]
  },
  {
   "cell_type": "markdown",
   "metadata": {
    "id": "M1KLD5QxHsVw"
   },
   "source": [
    "## Pandas ( Python Data Analysis Library)\n",
    "\n",
    "### Main Features\n",
    "- Easy handling of missing data in both floating point and non-floating point data.\n",
    "- Automatic and explicit data alignment, making it easy to perform computations and transformations on data sets.\n",
    "\n"
   ]
  },
  {
   "cell_type": "markdown",
   "metadata": {
    "id": "v1CuU3FeIq1a"
   },
   "source": [
    "#### Generating the dataset"
   ]
  },
  {
   "cell_type": "markdown",
   "metadata": {
    "id": "fp36ZqOMIy7k"
   },
   "source": [
    "Run the following load command to get the 2-Dim iris dataset. Do the following operations on it and please dont edit this cell"
   ]
  },
  {
   "cell_type": "code",
   "execution_count": null,
   "metadata": {
    "id": "A_O5RTBXIyK-"
   },
   "outputs": [],
   "source": [
    "url = 'https://archive.ics.uci.edu/ml/machine-learning-databases/iris/iris.data'\n",
    "iris_2d = np.genfromtxt(url, delimiter=',', dtype='float', usecols=[0,1,2,3])"
   ]
  },
  {
   "cell_type": "code",
   "execution_count": null,
   "metadata": {
    "id": "ZYr16n6wfT4p"
   },
   "outputs": [],
   "source": [
    "import pandas as pd"
   ]
  },
  {
   "cell_type": "markdown",
   "metadata": {
    "id": "EILb6pPrS8Ju"
   },
   "source": [
    "#### Basic Data Analysis"
   ]
  },
  {
   "cell_type": "code",
   "execution_count": null,
   "metadata": {
    "id": "bViO1LLoI7sz"
   },
   "outputs": [],
   "source": [
    "# Write a Pandas function to drop rows that contain a missing value.\n",
    "\n",
    "data = pd.DataFrame(iris_2d)\n",
    "newdf = data.dropna()"
   ]
  },
  {
   "cell_type": "code",
   "execution_count": null,
   "metadata": {
    "id": "zp_BYv5EJDjJ"
   },
   "outputs": [],
   "source": [
    "# Write a Pandas function to find the correlation between the first two columns.\n",
    "dfcor=data[0].corr(data[1])"
   ]
  },
  {
   "cell_type": "code",
   "execution_count": null,
   "metadata": {
    "id": "0mjeoZCwJDoW"
   },
   "outputs": [],
   "source": [
    "# Write a Pandas function to find the mean, median and standard deviation of column 3.\n",
    "mean=data[3].mean()\n",
    "med=data[3].median()\n",
    "std=data[3].std()"
   ]
  },
  {
   "cell_type": "code",
   "execution_count": null,
   "metadata": {
    "colab": {
     "base_uri": "https://localhost:8080/",
     "height": 333
    },
    "id": "bRiYEhWTJDrM",
    "outputId": "c95dab9c-89f7-4ca1-865f-2cf6f1b9e353"
   },
   "outputs": [
    {
     "ename": "KeyError",
     "evalue": "'petal_length'",
     "output_type": "error",
     "traceback": [
      "\u001b[0;31m---------------------------------------------------------------------------\u001b[0m",
      "\u001b[0;31mKeyError\u001b[0m                                  Traceback (most recent call last)",
      "\u001b[0;32m<ipython-input-34-c4e4f7021093>\u001b[0m in \u001b[0;36m<cell line: 6>\u001b[0;34m()\u001b[0m\n\u001b[1;32m      4\u001b[0m \u001b[0;31m# 2. Add the new column\u001b[0m\u001b[0;34m\u001b[0m\u001b[0;34m\u001b[0m\u001b[0m\n\u001b[1;32m      5\u001b[0m \u001b[0miris_2d\u001b[0m \u001b[0;34m=\u001b[0m \u001b[0mnp\u001b[0m\u001b[0;34m.\u001b[0m\u001b[0mexpand_dims\u001b[0m\u001b[0;34m(\u001b[0m\u001b[0miris_2d\u001b[0m\u001b[0;34m,\u001b[0m \u001b[0maxis\u001b[0m \u001b[0;34m=\u001b[0m \u001b[0;36m0\u001b[0m\u001b[0;34m)\u001b[0m\u001b[0;34m\u001b[0m\u001b[0;34m\u001b[0m\u001b[0m\n\u001b[0;32m----> 6\u001b[0;31m \u001b[0mdata\u001b[0m\u001b[0;34m[\u001b[0m\u001b[0;36m4\u001b[0m\u001b[0;34m]\u001b[0m \u001b[0;34m=\u001b[0m \u001b[0;34m(\u001b[0m\u001b[0mnp\u001b[0m\u001b[0;34m.\u001b[0m\u001b[0mpi\u001b[0m \u001b[0;34m*\u001b[0m \u001b[0mdata\u001b[0m\u001b[0;34m[\u001b[0m\u001b[0;34m'petal_length'\u001b[0m\u001b[0;34m]\u001b[0m \u001b[0;34m*\u001b[0m \u001b[0;34m(\u001b[0m\u001b[0mdata\u001b[0m\u001b[0;34m[\u001b[0m\u001b[0;34m'sepal_length'\u001b[0m\u001b[0;34m]\u001b[0m\u001b[0;34m**\u001b[0m\u001b[0;36m2\u001b[0m\u001b[0;34m)\u001b[0m\u001b[0;34m)\u001b[0m\u001b[0;34m/\u001b[0m\u001b[0;36m3\u001b[0m\u001b[0;34m\u001b[0m\u001b[0;34m\u001b[0m\u001b[0m\n\u001b[0m",
      "\u001b[0;32m/usr/local/lib/python3.10/dist-packages/pandas/core/frame.py\u001b[0m in \u001b[0;36m__getitem__\u001b[0;34m(self, key)\u001b[0m\n\u001b[1;32m   4100\u001b[0m             \u001b[0;32mif\u001b[0m \u001b[0mself\u001b[0m\u001b[0;34m.\u001b[0m\u001b[0mcolumns\u001b[0m\u001b[0;34m.\u001b[0m\u001b[0mnlevels\u001b[0m \u001b[0;34m>\u001b[0m \u001b[0;36m1\u001b[0m\u001b[0;34m:\u001b[0m\u001b[0;34m\u001b[0m\u001b[0;34m\u001b[0m\u001b[0m\n\u001b[1;32m   4101\u001b[0m                 \u001b[0;32mreturn\u001b[0m \u001b[0mself\u001b[0m\u001b[0;34m.\u001b[0m\u001b[0m_getitem_multilevel\u001b[0m\u001b[0;34m(\u001b[0m\u001b[0mkey\u001b[0m\u001b[0;34m)\u001b[0m\u001b[0;34m\u001b[0m\u001b[0;34m\u001b[0m\u001b[0m\n\u001b[0;32m-> 4102\u001b[0;31m             \u001b[0mindexer\u001b[0m \u001b[0;34m=\u001b[0m \u001b[0mself\u001b[0m\u001b[0;34m.\u001b[0m\u001b[0mcolumns\u001b[0m\u001b[0;34m.\u001b[0m\u001b[0mget_loc\u001b[0m\u001b[0;34m(\u001b[0m\u001b[0mkey\u001b[0m\u001b[0;34m)\u001b[0m\u001b[0;34m\u001b[0m\u001b[0;34m\u001b[0m\u001b[0m\n\u001b[0m\u001b[1;32m   4103\u001b[0m             \u001b[0;32mif\u001b[0m \u001b[0mis_integer\u001b[0m\u001b[0;34m(\u001b[0m\u001b[0mindexer\u001b[0m\u001b[0;34m)\u001b[0m\u001b[0;34m:\u001b[0m\u001b[0;34m\u001b[0m\u001b[0;34m\u001b[0m\u001b[0m\n\u001b[1;32m   4104\u001b[0m                 \u001b[0mindexer\u001b[0m \u001b[0;34m=\u001b[0m \u001b[0;34m[\u001b[0m\u001b[0mindexer\u001b[0m\u001b[0;34m]\u001b[0m\u001b[0;34m\u001b[0m\u001b[0;34m\u001b[0m\u001b[0m\n",
      "\u001b[0;32m/usr/local/lib/python3.10/dist-packages/pandas/core/indexes/range.py\u001b[0m in \u001b[0;36mget_loc\u001b[0;34m(self, key)\u001b[0m\n\u001b[1;32m    415\u001b[0m                 \u001b[0;32mraise\u001b[0m \u001b[0mKeyError\u001b[0m\u001b[0;34m(\u001b[0m\u001b[0mkey\u001b[0m\u001b[0;34m)\u001b[0m \u001b[0;32mfrom\u001b[0m \u001b[0merr\u001b[0m\u001b[0;34m\u001b[0m\u001b[0;34m\u001b[0m\u001b[0m\n\u001b[1;32m    416\u001b[0m         \u001b[0;32mif\u001b[0m \u001b[0misinstance\u001b[0m\u001b[0;34m(\u001b[0m\u001b[0mkey\u001b[0m\u001b[0;34m,\u001b[0m \u001b[0mHashable\u001b[0m\u001b[0;34m)\u001b[0m\u001b[0;34m:\u001b[0m\u001b[0;34m\u001b[0m\u001b[0;34m\u001b[0m\u001b[0m\n\u001b[0;32m--> 417\u001b[0;31m             \u001b[0;32mraise\u001b[0m \u001b[0mKeyError\u001b[0m\u001b[0;34m(\u001b[0m\u001b[0mkey\u001b[0m\u001b[0;34m)\u001b[0m\u001b[0;34m\u001b[0m\u001b[0;34m\u001b[0m\u001b[0m\n\u001b[0m\u001b[1;32m    418\u001b[0m         \u001b[0mself\u001b[0m\u001b[0;34m.\u001b[0m\u001b[0m_check_indexing_error\u001b[0m\u001b[0;34m(\u001b[0m\u001b[0mkey\u001b[0m\u001b[0;34m)\u001b[0m\u001b[0;34m\u001b[0m\u001b[0;34m\u001b[0m\u001b[0m\n\u001b[1;32m    419\u001b[0m         \u001b[0;32mraise\u001b[0m \u001b[0mKeyError\u001b[0m\u001b[0;34m(\u001b[0m\u001b[0mkey\u001b[0m\u001b[0;34m)\u001b[0m\u001b[0;34m\u001b[0m\u001b[0;34m\u001b[0m\u001b[0m\n",
      "\u001b[0;31mKeyError\u001b[0m: 'petal_length'"
     ]
    }
   ],
   "source": [
    "# Write a Pandas function to create a new column for volume in iris_2d, where volume is (pi x petallength x sepal_length^2)/3\n",
    "# Hints:\n",
    "# 1. Introduce new dimension to match iris_2d's\n",
    "# 2. Add the new column\n",
    "iris_2d = np.expand_dims(iris_2d, axis = 0)\n",
    "data[4] = (np.pi * data['petallength'] * (data['sepal_length']**2))/3\n"
   ]
  },
  {
   "cell_type": "markdown",
   "metadata": {
    "id": "dGqrG93ELEQ3"
   },
   "source": [
    "# Section B *(2 Marks each)*"
   ]
  },
  {
   "cell_type": "markdown",
   "metadata": {
    "id": "OLm8jv7tMH6h"
   },
   "source": [
    "###NumPy"
   ]
  },
  {
   "cell_type": "markdown",
   "metadata": {
    "id": "zE1n0x7ZLRLU"
   },
   "source": [
    "Q1 Let x = np.arange(4, dtype=np.int64). Create an array of ones with the same shape and type as X."
   ]
  },
  {
   "cell_type": "code",
   "execution_count": null,
   "metadata": {
    "id": "H8o9C6b7LJzA"
   },
   "outputs": [],
   "source": [
    "X=np.ones((4), dtype=np.int64)"
   ]
  },
  {
   "cell_type": "markdown",
   "metadata": {
    "id": "PPYeTqoHLSNj"
   },
   "source": [
    "Q2 Let x be an array [1, 2, 3, ..., 9]. Split x into 3 arrays, each of which has 4, 2, and 3 elements in the original order."
   ]
  },
  {
   "cell_type": "code",
   "execution_count": null,
   "metadata": {
    "id": "DS9mr30LLYdg"
   },
   "outputs": [],
   "source": [
    "result = np.split(x, 4,2,3)"
   ]
  },
  {
   "cell_type": "markdown",
   "metadata": {
    "id": "b1wJaooRLXjN"
   },
   "source": [
    "Q3 Initiate x as a 2x5 array with random values from 0 to 10(not inclusive).Get the maximum and minimum values and their indices of x along the second axis."
   ]
  },
  {
   "cell_type": "code",
   "execution_count": null,
   "metadata": {
    "id": "GnXDqksjLf89"
   },
   "outputs": [],
   "source": [
    "np3=np.random.rand(0,10,(2,5))"
   ]
  },
  {
   "cell_type": "markdown",
   "metadata": {
    "id": "8_Q7fbyxMMHM"
   },
   "source": [
    "### Pandas"
   ]
  },
  {
   "cell_type": "markdown",
   "metadata": {
    "id": "3QpaFHkxJUho"
   },
   "source": [
    "Run the following load command and solve the following questions"
   ]
  },
  {
   "cell_type": "code",
   "execution_count": null,
   "metadata": {
    "id": "mLdcY49iJDtl"
   },
   "outputs": [],
   "source": [
    "url = 'https://archive.ics.uci.edu/ml/machine-learning-databases/iris/iris.data'\n",
    "iris = np.genfromtxt(url, delimiter=',', dtype='object')\n",
    "names = ('sepallength', 'sepalwidth', 'petallength', 'petalwidth', 'species')"
   ]
  },
  {
   "cell_type": "markdown",
   "metadata": {
    "id": "zbDepnx9RtV8"
   },
   "source": [
    "Q4 Write a Pandas function to find the count of unique species."
   ]
  },
  {
   "cell_type": "code",
   "execution_count": null,
   "metadata": {
    "id": "oAkO0UnqJDv7"
   },
   "outputs": [],
   "source": [
    "df=pd.Dataframe(iris)\n",
    "n = len(pd.unique(df['species']))"
   ]
  },
  {
   "cell_type": "markdown",
   "metadata": {
    "id": "Usj5HlvyRxal"
   },
   "source": [
    "# Q5 Write a Pandas function to bin the petal length (3rd) column of iris_2d to form a text array, such that if petal length is:\n",
    "- Less than 3 –> ‘small’\n",
    "- 3-5 –> ‘medium’\n",
    "- greater than equal to 5 –> ‘large’"
   ]
  },
  {
   "cell_type": "code",
   "execution_count": null,
   "metadata": {
    "id": "gTWWJoLMJDxx"
   },
   "outputs": [],
   "source": [
    "bins = [0, 3, 5, float('inf')]\n",
    "labels = ['small', 'medium', 'large']\n",
    "petal_length_bin = pd.cut(iris_2d.iloc[:, 2], bins=bins, labels=labels, right=False)"
   ]
  },
  {
   "cell_type": "markdown",
   "metadata": {
    "id": "IbBYP_8sSBrB"
   },
   "source": [
    "Q6 Write a Pandas function to find the most frequent value of petal length (3rd column) in iris dataset"
   ]
  },
  {
   "cell_type": "code",
   "execution_count": null,
   "metadata": {
    "id": "DNk_tlVWJufR"
   },
   "outputs": [],
   "source": [
    "frequent_values = df['petallength'].mode()"
   ]
  }
 ],
 "metadata": {
  "colab": {
   "provenance": []
  },
  "kernelspec": {
   "display_name": "Python 3",
   "name": "python3"
  },
  "language_info": {
   "name": "python"
  }
 },
 "nbformat": 4,
 "nbformat_minor": 0
}
